{
 "cells": [
  {
   "cell_type": "code",
   "execution_count": 1,
   "id": "3696d691-e366-413b-8590-c1ad7e8bc170",
   "metadata": {},
   "outputs": [],
   "source": [
    "import glob\n",
    "import os\n",
    "import numpy as np\n",
    "from torch.utils.data import Dataset\n",
    "import matplotlib.pyplot as plt\n",
    "import ipdb\n",
    "import inspect\n",
    "import torch\n",
    "\n",
    "os.sys.path.insert(0, '/home/lagandua/projects/refining-skill-sequences/')\n",
    "\n",
    "def plot_3d_trajectories(demos, repro=None):\n",
    "    fig = plt.figure(figsize=(4, 4))\n",
    "    ax = fig.add_subplot(projection=\"3d\")\n",
    "    if repro is None:\n",
    "        for i in range(demos.shape[0]):\n",
    "            x_val = demos[i, :, 0]\n",
    "            y_val = demos[i, :, 1]\n",
    "            z_val = demos[i, :, 2]\n",
    "            ax.scatter(x_val, y_val, z_val, s=10)\n",
    "    else:\n",
    "        ax.scatter(demos[:, 0], demos[:, 1], demos[:, 2], alpha=0.5, s=1, label=\"Demonstration\")\n",
    "        ax.scatter(repro[:, 0], repro[:, 1], repro[:, 2], s=5, label=\"Reproduction\")\n",
    "    plt.legend()\n",
    "    plt.tight_layout()\n",
    "    plt.show()\n",
    "\n",
    "class DynSysDataset(Dataset):\n",
    "    def __init__(self, skill, train=True, state_type='joint', demos_dir='/work/dlclarge1/lagandua-refine-skills/calvin_demos/'):\n",
    "        self.skill = skill\n",
    "        self.demos_dir = demos_dir\n",
    "        if train:\n",
    "            fname = 'training'\n",
    "        else:\n",
    "            fname = 'validation'\n",
    "        data_file = glob.glob(os.path.join(self.demos_dir, self.skill, f'{fname}.npy'))[0]\n",
    "        self.state_type = state_type\n",
    "\n",
    "        dt = 2 / 30\n",
    "        start_idx, end_idx = self.get_valid_columns()\n",
    "        self.X = np.load(data_file)[:,:,start_idx:end_idx]\n",
    "        # ipdb.set_trace()\n",
    "        self.dX = (self.X[:, 2:, :] - self.X[:, :-2, :]) / dt\n",
    "        self.X = self.X[:, 1:-1, :]\n",
    "        \n",
    "        self.X = torch.from_numpy(self.X).type(torch.FloatTensor)\n",
    "        self.dX = torch.from_numpy(self.dX).type(torch.FloatTensor)\n",
    "\n",
    "    def __len__(self):\n",
    "        return len(self.X)\n",
    "    \n",
    "    def __getitem__(self, idx):\n",
    "        return self.X[idx], self.dX[idx]\n",
    "    \n",
    "    def get_valid_columns(self):\n",
    "        if 'joint' in self.state_type:\n",
    "            start, end = 8, 15\n",
    "        elif 'pos_ori' in self.state_type:\n",
    "            start, end = 1, 7\n",
    "        elif 'pos' in self.state_type:\n",
    "            start, end = 1, 4\n",
    "        elif 'ori' in self.state_type:\n",
    "            start, end = 4, 7\n",
    "        elif 'grip' in self.state_type:\n",
    "            start, end = 7, 8\n",
    "        return start, end\n",
    "    \n",
    "    def plot_random(self):\n",
    "        sampled_path = []\n",
    "        rand_idx = np.random.randint(0, len(self.X))\n",
    "        true_x = self.X[rand_idx, :, :].numpy()\n",
    "        # ipdb.set_trace()\n",
    "        x = true_x[0]\n",
    "        sampling_dt = 1 / 30\n",
    "        for t in range(len(true_x)):\n",
    "            sampled_path.append(x)\n",
    "            x_dot = self.dX[rand_idx, t, :].numpy()\n",
    "            x = x + sampling_dt * x_dot\n",
    "        sampled_path = np.array(sampled_path)\n",
    "        plot_3d_trajectories(true_x, sampled_path)"
   ]
  },
  {
   "cell_type": "code",
   "execution_count": 2,
   "id": "267a5fe8-b0ed-4f6b-9cb4-b627fcf6ad6f",
   "metadata": {},
   "outputs": [],
   "source": [
    "ds_dataset = DynSysDataset(skill='open_drawer', state_type='pos')"
   ]
  },
  {
   "cell_type": "code",
   "execution_count": 3,
   "id": "9720a0ff-0eb4-439e-bd5d-819ba9d32262",
   "metadata": {},
   "outputs": [],
   "source": [
    "val_dataset = DynSysDataset(skill='open_drawer', state_type='pos', train=False)"
   ]
  },
  {
   "cell_type": "code",
   "execution_count": 4,
   "id": "2501af70-978f-459b-ba36-0216190d2a1d",
   "metadata": {},
   "outputs": [],
   "source": [
    "from SkillsSequencing.skills.mps.dynsys.CLFDS import CLFDS\n",
    "from SkillsSequencing.skills.mps.dynsys.WSAQF import WSAQF\n",
    "from SkillsSequencing.skills.mps.dynsys.FNN import SimpleNN"
   ]
  },
  {
   "cell_type": "code",
   "execution_count": 5,
   "id": "08b5e450-f456-4e81-ab35-03399fa380e4",
   "metadata": {},
   "outputs": [],
   "source": [
    "clf_model = WSAQF(dim=3, n_qfcn=1)\n",
    "reg_model = SimpleNN(3, 3, (20, 20))\n",
    "clfds = CLFDS(clf_model, reg_model, rho_0=0.1, kappa_0=0.0001)"
   ]
  },
  {
   "cell_type": "code",
   "execution_count": 6,
   "id": "a2bd9a78-f2af-4485-9e8e-e193e90910bb",
   "metadata": {},
   "outputs": [
    {
     "name": "stdout",
     "output_type": "stream",
     "text": [
      "epoch: 999 / 1000, cost: 0.00274461, val-cost: 0.00759750\n"
     ]
    }
   ],
   "source": [
    "clfds.train_ds(ds_dataset, val_dataset, lr=1e-3, max_epochs=1000, batch_size=100, fname='ds_model')"
   ]
  },
  {
   "cell_type": "code",
   "execution_count": 6,
   "id": "a622376a-07b0-4c6d-915e-15f8426244dc",
   "metadata": {},
   "outputs": [
    {
     "name": "stdout",
     "output_type": "stream",
     "text": [
      "epoch: 999 / 1000, cost: 80.975860603\n"
     ]
    }
   ],
   "source": [
    "clfds.train_clf(ds_dataset, lr=1e-3, max_epochs=1000, batch_size=100, fname='clf_model')"
   ]
  }
 ],
 "metadata": {
  "kernelspec": {
   "display_name": "Python 3 (ipykernel)",
   "language": "python",
   "name": "python3"
  },
  "language_info": {
   "codemirror_mode": {
    "name": "ipython",
    "version": 3
   },
   "file_extension": ".py",
   "mimetype": "text/x-python",
   "name": "python",
   "nbconvert_exporter": "python",
   "pygments_lexer": "ipython3",
   "version": "3.9.13"
  },
  "vscode": {
   "interpreter": {
    "hash": "916dbcbb3f70747c44a77c7bcd40155683ae19c65e1c03b4aa3499c5328201f1"
   }
  }
 },
 "nbformat": 4,
 "nbformat_minor": 5
}
