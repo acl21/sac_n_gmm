{
 "cells": [
  {
   "cell_type": "code",
   "execution_count": 1,
   "id": "a1d8b0cb",
   "metadata": {},
   "outputs": [],
   "source": [
    "import os\n",
    "import sys\n",
    "from pathlib import Path\n",
    "\n",
    "cwd_path = cwd_path = Path(os.getcwd()).absolute().parents[0]\n",
    "parent_path = cwd_path.parents[0]\n",
    "sys.path.insert(0, parent_path.as_posix())\n",
    "sys.path.insert(0, cwd_path.parents[0].parents[0].as_posix()) # Root\n",
    "\n",
    "import numpy as np\n",
    "from scipy.io import loadmat  # loading data from matlab\n",
    "from mayavi import mlab\n",
    "import matplotlib.pyplot as plt\n",
    "from pymanopt.manifolds import Euclidean, Sphere, Product\n",
    "\n",
    "from SkillsSequencing.skills.mps.gmr.manifold_statistics import compute_frechet_mean, compute_weighted_frechet_mean\n",
    "from SkillsSequencing.skills.mps.gmr.manifold_clustering import manifold_k_means, manifold_gmm_em\n",
    "from SkillsSequencing.skills.mps.gmr.manifold_gmr import manifold_gmr\n",
    "from SkillsSequencing.utils.plot_sphere_mayavi import plot_sphere, plot_gaussian_mesh_on_tangent_plane"
   ]
  },
  {
   "cell_type": "markdown",
   "id": "25ec8ed5",
   "metadata": {},
   "source": [
    "### Load Data"
   ]
  },
  {
   "cell_type": "code",
   "execution_count": 2,
   "id": "cb34f196",
   "metadata": {},
   "outputs": [],
   "source": [
    "letter = 'C'\n",
    "# exp_dir = './examples/MovementPrimitives/'\n",
    "datapath = '2Dletters/'\n",
    "data = loadmat(datapath + '%s.mat' % letter)\n",
    "demos = [d['pos'][0][0].T for d in data['demos'][0]]"
   ]
  },
  {
   "cell_type": "code",
   "execution_count": 3,
   "id": "e2026850",
   "metadata": {
    "scrolled": false
   },
   "outputs": [
    {
     "data": {
      "text/plain": [
       "<matplotlib.collections.PathCollection at 0x2b88e3c5940>"
      ]
     },
     "execution_count": 3,
     "metadata": {},
     "output_type": "execute_result"
    },
    {
     "data": {
      "image/png": "[encoded data removed]",
      "text/plain": [
       "<Figure size 400x200 with 1 Axes>"
      ]
     },
     "metadata": {},
     "output_type": "display_data"
    }
   ],
   "source": [
    "fig = plt.figure(figsize=(4,2))\n",
    "plt.scatter(demos[2][:, 0], demos[2][:, 1], s=3)"
   ]
  },
  {
   "cell_type": "markdown",
   "id": "c000ff32",
   "metadata": {},
   "source": [
    "### Parameters"
   ]
  },
  {
   "cell_type": "code",
   "execution_count": 4,
   "id": "e1180368",
   "metadata": {},
   "outputs": [],
   "source": [
    "nb_data = demos[0].shape[0]\n",
    "nb_data_sup = 50\n",
    "nb_samples = 5\n",
    "dt = 0.06\n",
    "input_dim = 3\n",
    "output_dim = 3\n",
    "in_idx = [0]\n",
    "out_idx = [1, 2, 3]\n",
    "nb_states = 3"
   ]
  },
  {
   "cell_type": "code",
   "execution_count": 5,
   "id": "f9e19563",
   "metadata": {
    "scrolled": true
   },
   "outputs": [],
   "source": [
    "# Create the manifold\n",
    "input_manifold = Sphere(input_dim)\n",
    "output_manifold = Euclidean(output_dim)\n",
    "manifold = Product([input_manifold, output_manifold])"
   ]
  },
  {
   "cell_type": "code",
   "execution_count": 6,
   "id": "5cd8e74b",
   "metadata": {},
   "outputs": [],
   "source": [
    "letter = 'C'\n",
    "# exp_dir = './examples/MovementPrimitives/'\n",
    "datapath = '2Dletters/'\n",
    "data = loadmat(datapath + '%s.mat' % letter)\n",
    "demos = [d['pos'][0][0].T for d in data['demos'][0]]"
   ]
  },
  {
   "cell_type": "code",
   "execution_count": 7,
   "id": "e5e2529f",
   "metadata": {},
   "outputs": [],
   "source": [
    "demos = np.array(demos)\n",
    "demos = 2 * demos / (np.max(demos, axis=1) - np.min(demos, axis=1))[:, None, :]\n",
    "demos = np.concatenate((demos, np.ones((demos.shape[0], demos.shape[1], 1))), axis=2)\n",
    "demos = demos / np.linalg.norm(demos, axis=2)[:, :, None]"
   ]
  },
  {
   "cell_type": "code",
   "execution_count": 8,
   "id": "0b313b94",
   "metadata": {},
   "outputs": [
    {
     "data": {
      "text/plain": [
       "(14, 200, 3)"
      ]
     },
     "execution_count": 8,
     "metadata": {},
     "output_type": "execute_result"
    }
   ],
   "source": [
    "demos.shape"
   ]
  },
  {
   "cell_type": "code",
   "execution_count": 9,
   "id": "a9c9adf5",
   "metadata": {},
   "outputs": [],
   "source": [
    "target = input_manifold.log(demos[:, 2:, :], demos[:, :-2, :])\n",
    "demos = demos[:, 1:-1, :]"
   ]
  },
  {
   "cell_type": "code",
   "execution_count": 33,
   "id": "605dfd3f",
   "metadata": {},
   "outputs": [],
   "source": [
    "nb_data = demos[0].shape[0]"
   ]
  },
  {
   "cell_type": "code",
   "execution_count": 10,
   "id": "0cd919a2",
   "metadata": {},
   "outputs": [],
   "source": [
    "X = demos[0]\n",
    "for i in range(1, nb_samples):\n",
    "    X = np.vstack([X, demos[i]])\n",
    "Y = target[0]\n",
    "for i in range(1, nb_samples):\n",
    "    Y = np.vstack([Y, target[i]])"
   ]
  },
  {
   "cell_type": "code",
   "execution_count": 11,
   "id": "f3827a08",
   "metadata": {},
   "outputs": [
    {
     "data": {
      "text/plain": [
       "(990, 3)"
      ]
     },
     "execution_count": 11,
     "metadata": {},
     "output_type": "execute_result"
    }
   ],
   "source": [
    "X.shape"
   ]
  },
  {
   "cell_type": "code",
   "execution_count": 12,
   "id": "0c47b09b",
   "metadata": {},
   "outputs": [
    {
     "data": {
      "text/plain": [
       "(990, 3)"
      ]
     },
     "execution_count": 12,
     "metadata": {},
     "output_type": "execute_result"
    }
   ],
   "source": [
    "Y.shape"
   ]
  },
  {
   "cell_type": "code",
   "execution_count": 15,
   "id": "a9d2cd74",
   "metadata": {},
   "outputs": [],
   "source": [
    "mlab.figure(1, bgcolor=(1, 1, 1), fgcolor=(0, 0, 0), size=(700, 700))\n",
    "fig = mlab.gcf()\n",
    "mlab.clf()\n",
    "plot_sphere(figure=fig)\n",
    "# Plot data on the sphere\n",
    "for p in range(nb_samples):\n",
    "        mlab.points3d(X[p * nb_data:(p + 1) * nb_data, 0],\n",
    "                      X[p * nb_data:(p + 1) * nb_data, 1],\n",
    "                      X[p * nb_data:(p + 1) * nb_data, 2],\n",
    "                      color=(0.5, 0., 0.5),\n",
    "                      scale_factor=0.03)\n",
    "for p in range(nb_samples):\n",
    "        mlab.points3d(Y[p * nb_data:(p + 1) * nb_data, 0],\n",
    "                      Y[p * nb_data:(p + 1) * nb_data, 1],\n",
    "                      Y[p * nb_data:(p + 1) * nb_data, 2],\n",
    "                      color=(0., 0., 0.5),\n",
    "                      scale_factor=0.03)\n",
    "mlab.view(30, 30)\n",
    "mlab.show()"
   ]
  },
  {
   "cell_type": "code",
   "execution_count": 35,
   "id": "2fcec659",
   "metadata": {},
   "outputs": [],
   "source": [
    "# Data in format compatible with pymanopt product of manifolds\n",
    "data = np.empty((X.shape[0], 2), dtype=object)\n",
    "for n in range(nb_data*nb_samples):\n",
    "    data[n] = [X[n], Y[n]]\n",
    "\n",
    "data = np.array(data, dtype=object)"
   ]
  },
  {
   "cell_type": "code",
   "execution_count": 36,
   "id": "ea830c6a",
   "metadata": {},
   "outputs": [
    {
     "data": {
      "text/plain": [
       "array([array([0.58176012, 0.60906998, 0.539063  ]),\n",
       "       array([2.45400749e-18, 2.56920768e-18, 2.27390097e-18])],\n",
       "      dtype=object)"
      ]
     },
     "execution_count": 36,
     "metadata": {},
     "output_type": "execute_result"
    }
   ],
   "source": [
    "data[0]"
   ]
  },
  {
   "cell_type": "code",
   "execution_count": 18,
   "id": "eb8b91a1",
   "metadata": {
    "scrolled": false
   },
   "outputs": [
    {
     "name": "stdout",
     "output_type": "stream",
     "text": [
      "Converged after 29 iterations: 4.283e+01\n"
     ]
    }
   ],
   "source": [
    "nb_clusters = 3\n",
    "\n",
    "# K-means\n",
    "km_means, km_assignments = manifold_k_means(manifold, data, nb_clusters=nb_clusters)\n",
    "\n",
    "# GMM\n",
    "initial_covariances = np.concatenate(nb_clusters * [np.eye(input_dim+output_dim)[None]], 0)\n",
    "initial_priors = np.zeros(nb_clusters)\n",
    "for k in range(nb_clusters):\n",
    "    initial_priors[k] = np.sum(km_assignments == k) / nb_data\n",
    "gmm_means, gmm_covariances, gmm_priors, gmm_assignments = manifold_gmm_em(manifold, data, nb_clusters,\n",
    "                                                                          initial_means=km_means,\n",
    "                                                                          initial_covariances=initial_covariances,\n",
    "                                                                          initial_priors=initial_priors\n",
    "                                                                          )\n",
    "# np.savez(filename, gmm_means=gmm_means, gmm_covariances=gmm_covariances, gmm_priors=gmm_priors)"
   ]
  },
  {
   "cell_type": "code",
   "execution_count": 99,
   "id": "5971e17a",
   "metadata": {},
   "outputs": [],
   "source": [
    "Xt = X[-nb_data:]\n",
    "Yt = Y[-nb_data:]"
   ]
  },
  {
   "cell_type": "code",
   "execution_count": 43,
   "id": "3e035c4e",
   "metadata": {},
   "outputs": [],
   "source": [
    "mu_gmr, sigma_gmr, H = manifold_gmr(Xt, manifold, gmm_means, gmm_covariances, gmm_priors)"
   ]
  },
  {
   "cell_type": "code",
   "execution_count": 65,
   "id": "9948ebf3",
   "metadata": {},
   "outputs": [],
   "source": [
    "rand_idx = np.random.choice(np.arange(0, len(X), nb_data))\n",
    "# rand_idx = 0\n",
    "Xt = np.copy(X[rand_idx:rand_idx+nb_data, :])\n",
    "x0 = np.copy(X[rand_idx, :])\n",
    "goal = np.copy(X[rand_idx+nb_data-1, :])\n",
    "new_x = x0"
   ]
  },
  {
   "cell_type": "markdown",
   "id": "bed58688",
   "metadata": {},
   "source": [
    "## Xt"
   ]
  },
  {
   "cell_type": "code",
   "execution_count": null,
   "id": "98499fad",
   "metadata": {},
   "outputs": [],
   "source": []
  },
  {
   "cell_type": "code",
   "execution_count": 100,
   "id": "85594bc8",
   "metadata": {},
   "outputs": [
    {
     "name": "stdout",
     "output_type": "stream",
     "text": [
      "792 198\n"
     ]
    }
   ],
   "source": [
    "sampled_path = []\n",
    "targets = []\n",
    "dt = 1\n",
    "for i in range(Xt.shape[0]):\n",
    "#     pdb.set_trace()\n",
    "    x_dot, sigma_gmr, H = manifold_gmr(Xt[i].reshape(1, -1), manifold, gmm_means, gmm_covariances, gmm_priors)\n",
    "    new_x = input_manifold.exp(Xt[i], dt * x_dot)\n",
    "#     new_x = new_x / np.linalg.norm(new_x)\n",
    "    sampled_path.append(new_x)\n",
    "    targets.append(x_dot)\n",
    "    \n",
    "#     if np.linalg.norm(new_x - goal) <= 0.03:\n",
    "#         break\n",
    "sampled_path = np.array(sampled_path).squeeze(1)\n",
    "true_path = X[rand_idx:rand_idx+nb_data]\n",
    "print(rand_idx, len(sampled_path))"
   ]
  },
  {
   "cell_type": "code",
   "execution_count": 105,
   "id": "cc21a596",
   "metadata": {},
   "outputs": [
    {
     "data": {
      "text/plain": [
       "7.778454209854347e-17"
      ]
     },
     "execution_count": 105,
     "metadata": {},
     "output_type": "execute_result"
    }
   ],
   "source": [
    "np.linalg.norm(Yt - targets)"
   ]
  },
  {
   "cell_type": "code",
   "execution_count": 113,
   "id": "47f98caa",
   "metadata": {},
   "outputs": [
    {
     "name": "stdout",
     "output_type": "stream",
     "text": [
      "[2.43654212e-18 2.49712691e-18 2.37087026e-18] [[2.01396479e-18 3.40104122e-18 2.45381450e-18]]\n"
     ]
    }
   ],
   "source": [
    "for i in range(11, 12):\n",
    "    print(Yt[i], targets[i])"
   ]
  },
  {
   "cell_type": "code",
   "execution_count": 86,
   "id": "10d39015",
   "metadata": {},
   "outputs": [
    {
     "name": "stdout",
     "output_type": "stream",
     "text": [
      "792 198\n"
     ]
    }
   ],
   "source": [
    "sampled_path = []\n",
    "dt = 5\n",
    "for i in range(Xt.shape[0]):\n",
    "#     pdb.set_trace()\n",
    "    x_dot, sigma_gmr, H = manifold_gmr(new_x.reshape(1, -1), manifold, gmm_means, gmm_covariances, gmm_priors)\n",
    "    new_x = input_manifold.exp(new_x, dt * x_dot)\n",
    "#     new_x = new_x / np.linalg.norm(new_x)\n",
    "    \n",
    "    sampled_path.append(new_x)\n",
    "    \n",
    "#     if np.linalg.norm(new_x - goal) <= 0.03:\n",
    "#         break\n",
    "sampled_path = np.array(sampled_path).squeeze(1)\n",
    "true_path = X[rand_idx:rand_idx+nb_data]\n",
    "print(rand_idx, len(sampled_path))"
   ]
  },
  {
   "cell_type": "code",
   "execution_count": 91,
   "id": "2adc6c63",
   "metadata": {},
   "outputs": [
    {
     "data": {
      "text/plain": [
       "1.0"
      ]
     },
     "execution_count": 91,
     "metadata": {},
     "output_type": "execute_result"
    }
   ],
   "source": [
    "np.linalg.norm(new_x)"
   ]
  },
  {
   "cell_type": "code",
   "execution_count": 96,
   "id": "2628f946",
   "metadata": {},
   "outputs": [
    {
     "data": {
      "text/plain": [
       "array([[ 0.5935706 ,  0.58362886,  0.55412209],\n",
       "       [ 0.59399211,  0.58340327,  0.55390793],\n",
       "       [ 0.59370359,  0.58355771,  0.55405455],\n",
       "       [ 0.59229045,  0.58431244,  0.55477112],\n",
       "       [ 0.59124768,  0.58486755,  0.55529824],\n",
       "       [ 0.59016767,  0.58544092,  0.55584266],\n",
       "       [ 0.5888434 ,  0.58614187,  0.556508  ],\n",
       "       [ 0.5871665 ,  0.58702606,  0.55734721],\n",
       "       [ 0.58517674,  0.58806996,  0.55833851],\n",
       "       [ 0.58300651,  0.58920203,  0.55941432],\n",
       "       [ 0.58073471,  0.59038046,  0.56053377],\n",
       "       [ 0.57821928,  0.59167856,  0.56176413],\n",
       "       [ 0.57521136,  0.59322043,  0.56322412],\n",
       "       [ 0.57156394,  0.595071  ,  0.56498244],\n",
       "       [ 0.56731391,  0.59719967,  0.5670163 ],\n",
       "       [ 0.56246659,  0.59960085,  0.56930674],\n",
       "       [ 0.5568522 ,  0.60236308,  0.57190415],\n",
       "       [ 0.55021448,  0.60559066,  0.57491215],\n",
       "       [ 0.54238872,  0.60929041,  0.57842862],\n",
       "       [ 0.53340864,  0.6133418 ,  0.58248353],\n",
       "       [ 0.52340857,  0.61762033,  0.58701669],\n",
       "       [ 0.51241434,  0.62211289,  0.59195194],\n",
       "       [ 0.50030681,  0.6268793 ,  0.59725659],\n",
       "       [ 0.48700284,  0.63191173,  0.60292272],\n",
       "       [ 0.47265121,  0.63705518,  0.6089019 ],\n",
       "       [ 0.45730385,  0.64219244,  0.6151927 ],\n",
       "       [ 0.44060471,  0.64739326,  0.62189183],\n",
       "       [ 0.4220405 ,  0.65282126,  0.62905184],\n",
       "       [ 0.40159768,  0.65849044,  0.63648224],\n",
       "       [ 0.37992774,  0.66418185,  0.64383025],\n",
       "       [ 0.35776803,  0.66961201,  0.65086235],\n",
       "       [ 0.3355205 ,  0.67458496,  0.65754173],\n",
       "       [ 0.31308146,  0.67908652,  0.66394389],\n",
       "       [ 0.28990018,  0.6832718 ,  0.67014739],\n",
       "       [ 0.2655038 ,  0.68726903,  0.67614274],\n",
       "       [ 0.24031166,  0.69095631,  0.68178419],\n",
       "       [ 0.21550368,  0.69402948,  0.68693613],\n",
       "       [ 0.19192904,  0.69627257,  0.69164134],\n",
       "       [ 0.16931593,  0.69774585,  0.69604802],\n",
       "       [ 0.1469742 ,  0.6986741 ,  0.70018075],\n",
       "       [ 0.12452761,  0.69925815,  0.70393957],\n",
       "       [ 0.10218431,  0.69956577,  0.70722423],\n",
       "       [ 0.08058596,  0.69953357,  0.71004133],\n",
       "       [ 0.06033015,  0.69905499,  0.71251834],\n",
       "       [ 0.04119784,  0.69808038,  0.71483321],\n",
       "       [ 0.02230981,  0.69665884,  0.7170556 ],\n",
       "       [ 0.00299998,  0.69489825,  0.71910182],\n",
       "       [-0.01650463,  0.69284011,  0.72090234],\n",
       "       [-0.03578169,  0.69040813,  0.72253463],\n",
       "       [-0.05479321,  0.68749919,  0.72411502],\n",
       "       [-0.07389404,  0.68405519,  0.72567773],\n",
       "       [-0.09340327,  0.68006535,  0.72717738],\n",
       "       [-0.11315093,  0.6755788 ,  0.72855347],\n",
       "       [-0.13219131,  0.67083917,  0.72972615],\n",
       "       [-0.14929711,  0.66625272,  0.73062829],\n",
       "       [-0.16412613,  0.66203344,  0.73128267],\n",
       "       [-0.17806954,  0.65777738,  0.73186075],\n",
       "       [-0.19332805,  0.6526148 ,  0.73261053],\n",
       "       [-0.21095047,  0.64596213,  0.73364353],\n",
       "       [-0.23022482,  0.63791367,  0.73488957],\n",
       "       [-0.24963417,  0.62904205,  0.73619894],\n",
       "       [-0.26832009,  0.61984048,  0.73742939],\n",
       "       [-0.28646578,  0.61046055,  0.73842757],\n",
       "       [-0.30508864,  0.60059255,  0.73905988],\n",
       "       [-0.32523164,  0.58972853,  0.73921894],\n",
       "       [-0.34676576,  0.5778248 ,  0.73883151],\n",
       "       [-0.36798424,  0.56571324,  0.73794046],\n",
       "       [-0.38729608,  0.5542683 ,  0.73674174],\n",
       "       [-0.40451877,  0.54365189,  0.73539593],\n",
       "       [-0.42059314,  0.53337863,  0.73389962],\n",
       "       [-0.4362416 ,  0.52298868,  0.73224047],\n",
       "       [-0.45179913,  0.51201389,  0.73056096],\n",
       "       [-0.46743949,  0.49995508,  0.72907149],\n",
       "       [-0.48301496,  0.48665096,  0.7279199 ],\n",
       "       [-0.49792383,  0.47256034,  0.72715788],\n",
       "       [-0.51172133,  0.45827223,  0.72672405],\n",
       "       [-0.52462263,  0.44393511,  0.72642462],\n",
       "       [-0.53717901,  0.4293223 ,  0.72603104],\n",
       "       [-0.54979482,  0.41403174,  0.72546769],\n",
       "       [-0.56257753,  0.39751935,  0.72490336],\n",
       "       [-0.57536031,  0.37932857,  0.72461738],\n",
       "       [-0.58761982,  0.35971294,  0.72478241],\n",
       "       [-0.59872801,  0.33952976,  0.72542699],\n",
       "       [-0.6083945 ,  0.31945265,  0.72650267],\n",
       "       [-0.61683394,  0.2993355 ,  0.72795202],\n",
       "       [-0.62434354,  0.27868751,  0.72974545],\n",
       "       [-0.63100335,  0.257239  ,  0.73188993],\n",
       "       [-0.63670097,  0.2352003 ,  0.73436551],\n",
       "       [-0.64133635,  0.21315724,  0.73705609],\n",
       "       [-0.64494041,  0.19158871,  0.73982811],\n",
       "       [-0.64772766,  0.17014389,  0.74263041],\n",
       "       [-0.65001016,  0.14797867,  0.7453785 ],\n",
       "       [-0.65204245,  0.12468123,  0.74786044],\n",
       "       [-0.65387899,  0.10076728,  0.7498588 ],\n",
       "       [-0.6553849 ,  0.0765949 ,  0.75140126],\n",
       "       [-0.65632178,  0.05168721,  0.75270855],\n",
       "       [-0.65646705,  0.02530432,  0.75393017],\n",
       "       [-0.65572598, -0.00251194,  0.75499479],\n",
       "       [-0.65415778, -0.0306089 ,  0.75573851],\n",
       "       [-0.65187122, -0.05758712,  0.75613996],\n",
       "       [-0.64891772, -0.08280531,  0.75633926],\n",
       "       [-0.64518553, -0.10688144,  0.75651305],\n",
       "       [-0.64038889, -0.13126943,  0.7567499 ],\n",
       "       [-0.63428212, -0.15693032,  0.75700665],\n",
       "       [-0.62701497, -0.1833271 ,  0.75712839],\n",
       "       [-0.61910791, -0.20901099,  0.75698071],\n",
       "       [-0.61096294, -0.23319196,  0.75653539],\n",
       "       [-0.6023485 , -0.25674205,  0.75581731],\n",
       "       [-0.59262126, -0.28123847,  0.75478803],\n",
       "       [-0.58136355, -0.30742843,  0.75332873],\n",
       "       [-0.56873584, -0.33467225,  0.7513548 ],\n",
       "       [-0.55537373, -0.36149139,  0.74892189],\n",
       "       [-0.54197242, -0.38663414,  0.74617688],\n",
       "       [-0.52881024, -0.4098838 ,  0.74320589],\n",
       "       [-0.51539149, -0.43214754,  0.74001359],\n",
       "       [-0.50065398, -0.45470534,  0.73660617],\n",
       "       [-0.48384154, -0.47796646,  0.7331067 ],\n",
       "       [-0.46531915, -0.50095947,  0.7297381 ],\n",
       "       [-0.44605967, -0.52242647,  0.72670582],\n",
       "       [-0.42672489, -0.54189616,  0.72405416],\n",
       "       [-0.40732337, -0.55973944,  0.72165049],\n",
       "       [-0.38763811, -0.57636463,  0.71940289],\n",
       "       [-0.36733463, -0.59194406,  0.7174033 ],\n",
       "       [-0.34613372, -0.60644024,  0.71583635],\n",
       "       [-0.32429884, -0.61953513,  0.71484718],\n",
       "       [-0.30282941, -0.63069105,  0.71450902],\n",
       "       [-0.28254966, -0.63971157,  0.71479703],\n",
       "       [-0.26337602, -0.64703154,  0.71553005],\n",
       "       [-0.24468664, -0.65332889,  0.71644247],\n",
       "       [-0.22598165, -0.65903291,  0.71736178],\n",
       "       [-0.20709509, -0.66420367,  0.7182932 ],\n",
       "       [-0.1881588 , -0.66872268,  0.71930956],\n",
       "       [-0.16937467, -0.67247738,  0.72047651],\n",
       "       [-0.15051431, -0.67549978,  0.72183481],\n",
       "       [-0.13075664, -0.67799585,  0.72334247],\n",
       "       [-0.10944215, -0.68021904,  0.72479271],\n",
       "       [-0.0867466 , -0.68228284,  0.72592366],\n",
       "       [-0.0632488 , -0.68411825,  0.72662357],\n",
       "       [-0.03936806, -0.68556634,  0.72694494],\n",
       "       [-0.01516673, -0.68652446,  0.72694851],\n",
       "       [ 0.00958231, -0.68696776,  0.72662471],\n",
       "       [ 0.03515126, -0.6868473 ,  0.72595122],\n",
       "       [ 0.06133714, -0.68611699,  0.72490084],\n",
       "       [ 0.08744839, -0.68482289,  0.72344342],\n",
       "       [ 0.11308311, -0.68305529,  0.7215592 ],\n",
       "       [ 0.13853349, -0.68075496,  0.71929212],\n",
       "       [ 0.16420112, -0.67776237,  0.71671205],\n",
       "       [ 0.19043174, -0.6739395 ,  0.71382162],\n",
       "       [ 0.21778348, -0.66918313,  0.71046766],\n",
       "       [ 0.24682505, -0.66338721,  0.70639564],\n",
       "       [ 0.27697657, -0.65664785,  0.70149667],\n",
       "       [ 0.30667845, -0.64929868,  0.69595944],\n",
       "       [ 0.33464166, -0.64165974,  0.69013603],\n",
       "       [ 0.36083118, -0.63375127,  0.68422232],\n",
       "       [ 0.385924  , -0.62544192,  0.67814827],\n",
       "       [ 0.41035221, -0.61670515,  0.67177811],\n",
       "       [ 0.43383263, -0.60773914,  0.66516343],\n",
       "       [ 0.45558702, -0.5989146 ,  0.65859074],\n",
       "       [ 0.47512889, -0.590564  ,  0.65229342],\n",
       "       [ 0.49307326, -0.58263961,  0.64607263],\n",
       "       [ 0.51050906, -0.57481098,  0.63950984],\n",
       "       [ 0.52795185, -0.56685149,  0.63241302],\n",
       "       [ 0.54492777, -0.55891433,  0.6250348 ],\n",
       "       [ 0.56085863, -0.5512622 ,  0.61769538],\n",
       "       [ 0.57570444, -0.5439689 ,  0.61046067],\n",
       "       [ 0.58967215, -0.53699852,  0.60325728],\n",
       "       [ 0.60266054, -0.53044049,  0.59618216],\n",
       "       [ 0.61405236, -0.5246144 ,  0.5896774 ],\n",
       "       [ 0.62320337, -0.51985211,  0.58426993],\n",
       "       [ 0.63000958, -0.51623288,  0.5801651 ],\n",
       "       [ 0.63495168, -0.5135476 ,  0.57715269],\n",
       "       [ 0.63868092, -0.51149279,  0.57485808],\n",
       "       [ 0.64148904, -0.50993556,  0.57311215],\n",
       "       [ 0.64332548, -0.50891407,  0.57196049],\n",
       "       [ 0.64417905, -0.5084382 ,  0.57142274],\n",
       "       [ 0.64433225, -0.50835234,  0.5713264 ],\n",
       "       [ 0.64424808, -0.50839894,  0.57137985],\n",
       "       [ 0.64420493, -0.5084229 ,  0.57140718],\n",
       "       [ 0.64423153, -0.50840812,  0.57139034],\n",
       "       [ 0.64425762, -0.50839363,  0.57137382],\n",
       "       [ 0.64425826, -0.50839328,  0.57137341],\n",
       "       [ 0.64424949, -0.50839815,  0.57137896],\n",
       "       [ 0.64424555, -0.50840034,  0.57138146],\n",
       "       [ 0.64424721, -0.50839941,  0.5713804 ],\n",
       "       [ 0.64424923, -0.50839829,  0.57137913],\n",
       "       [ 0.64424944, -0.50839817,  0.57137899],\n",
       "       [ 0.64424882, -0.50839852,  0.57137939],\n",
       "       [ 0.64424848, -0.50839871,  0.5713796 ],\n",
       "       [ 0.64424858, -0.50839865,  0.57137954],\n",
       "       [ 0.64424873, -0.50839857,  0.57137944],\n",
       "       [ 0.64424876, -0.50839855,  0.57137942],\n",
       "       [ 0.64424872, -0.50839858,  0.57137945],\n",
       "       [ 0.64424869, -0.50839859,  0.57137947],\n",
       "       [ 0.6442487 , -0.50839859,  0.57137946],\n",
       "       [ 0.64424871, -0.50839858,  0.57137946],\n",
       "       [ 0.64424871, -0.50839858,  0.57137946],\n",
       "       [ 0.64424871, -0.50839858,  0.57137946],\n",
       "       [ 0.64424871, -0.50839858,  0.57137946]])"
      ]
     },
     "execution_count": 96,
     "metadata": {},
     "output_type": "execute_result"
    }
   ],
   "source": [
    "sampled_path"
   ]
  },
  {
   "cell_type": "code",
   "execution_count": 13,
   "id": "811109d8",
   "metadata": {},
   "outputs": [
    {
     "data": {
      "text/plain": [
       "(250, 3, 3)"
      ]
     },
     "execution_count": 13,
     "metadata": {},
     "output_type": "execute_result"
    }
   ],
   "source": [
    "sigma_gmr.shape"
   ]
  },
  {
   "cell_type": "code",
   "execution_count": 14,
   "id": "a6bfb89b",
   "metadata": {},
   "outputs": [
    {
     "data": {
      "text/plain": [
       "(3, 250)"
      ]
     },
     "execution_count": 14,
     "metadata": {},
     "output_type": "execute_result"
    }
   ],
   "source": [
    "H.shape"
   ]
  },
  {
   "cell_type": "code",
   "execution_count": 27,
   "id": "7d277b8e",
   "metadata": {},
   "outputs": [
    {
     "data": {
      "text/plain": [
       "array([[array([-0.61646004, -0.03957806,  0.78639087]),\n",
       "        array([-2.40989000e-18, -1.67404893e-19,  3.06747768e-18])],\n",
       "       [array([ 0.40081264, -0.59622593,  0.69560324]),\n",
       "        array([ 1.63047633e-18, -2.37630728e-18,  2.77050336e-18])],\n",
       "       [array([0.24431076, 0.69859372, 0.67251697]),\n",
       "        array([9.74096417e-19, 2.76596900e-18, 2.66104772e-18])]],\n",
       "      dtype=object)"
      ]
     },
     "execution_count": 27,
     "metadata": {},
     "output_type": "execute_result"
    }
   ],
   "source": [
    "gmm_means"
   ]
  },
  {
   "cell_type": "code",
   "execution_count": 25,
   "id": "530b84cb",
   "metadata": {},
   "outputs": [
    {
     "data": {
      "text/plain": [
       "(3, 6, 6)"
      ]
     },
     "execution_count": 25,
     "metadata": {},
     "output_type": "execute_result"
    }
   ],
   "source": [
    "gmm_covariances.shape"
   ]
  },
  {
   "cell_type": "code",
   "execution_count": 17,
   "id": "2e3bfd7d",
   "metadata": {},
   "outputs": [
    {
     "data": {
      "text/plain": [
       "(250, 3)"
      ]
     },
     "execution_count": 17,
     "metadata": {},
     "output_type": "execute_result"
    }
   ],
   "source": [
    "mu_gmr.shape"
   ]
  },
  {
   "cell_type": "code",
   "execution_count": 114,
   "id": "5aa46905",
   "metadata": {},
   "outputs": [],
   "source": [
    "mlab.figure(1, bgcolor=(1, 1, 1), fgcolor=(0, 0, 0), size=(700, 700))\n",
    "fig = mlab.gcf()\n",
    "mlab.clf()\n",
    "plot_sphere(figure=fig)\n",
    "# Plot data on the sphere\n",
    "for p in range(nb_samples):\n",
    "    mlab.points3d(X[p * nb_data:(p + 1) * nb_data, 0],\n",
    "                  X[p * nb_data:(p + 1) * nb_data, 1],\n",
    "                  X[p * nb_data:(p + 1) * nb_data, 2],\n",
    "                  color=(0.4, 0., 0.),\n",
    "                  scale_factor=0.03)\n",
    "\n",
    "for p in range(len(sampled_path)):\n",
    "    mlab.points3d(sampled_path[p, 0], sampled_path[p, 1], sampled_path[p, 2],\n",
    "                  color=(0., 0.6, 0.),\n",
    "                  scale_factor=0.03)\n",
    "\n",
    "# Plot Gaussians\n",
    "for k in range(nb_clusters):\n",
    "    plot_gaussian_mesh_on_tangent_plane(gmm_means[k, 0], gmm_covariances[k, :nb_clusters, :nb_clusters], color=(0., 0., 1.))\n",
    "\n",
    "# # # Plot GMR trajectory\n",
    "# for n in range(Xt.shape[0]):\n",
    "#     # Plot mean and covariance\n",
    "#     plot_gaussian_mesh_on_tangent_plane(mu_gmr[n], sigma_gmr[n], color=(0.20, 0.54, 0.93))\n",
    "#     # Plot mean only\n",
    "#     mlab.points3d(mu_gmr[n, 0], mu_gmr[n, 1], mu_gmr[n, 2],\n",
    "#                   color=(0.20, 0.54, 0.93),\n",
    "#                   scale_factor=0.03)\n",
    "mlab.view(30, 120)\n",
    "# mlab.savefig('Figure0.png')\n",
    "mlab.show()"
   ]
  },
  {
   "cell_type": "code",
   "execution_count": 75,
   "id": "bcc1418b",
   "metadata": {},
   "outputs": [
    {
     "data": {
      "text/plain": [
       "array([0.5935706 , 0.58362886, 0.55412209])"
      ]
     },
     "execution_count": 75,
     "metadata": {},
     "output_type": "execute_result"
    }
   ],
   "source": [
    "sampled_path[0]"
   ]
  },
  {
   "cell_type": "code",
   "execution_count": 15,
   "id": "2170ad46",
   "metadata": {},
   "outputs": [
    {
     "data": {
      "image/png": "[encoded data removed]",
      "text/plain": [
       "<Figure size 500x400 with 1 Axes>"
      ]
     },
     "metadata": {},
     "output_type": "display_data"
    }
   ],
   "source": [
    "plt.figure(figsize=(5, 4))\n",
    "for p in range(nb_samples):\n",
    "    plt.plot(Xt[:nb_data, 0], Y[p * nb_data:(p + 1) * nb_data, 0], color=[.7, .7, .7])\n",
    "plt.plot(Xt[:, 0], mu_gmr[:, 0], color=[0.20, 0.54, 0.93], linewidth=3)\n",
    "miny = mu_gmr[:, 0] - np.sqrt(sigma_gmr[:, 0, 0])\n",
    "maxy = mu_gmr[:, 0] + np.sqrt(sigma_gmr[:, 0, 0])\n",
    "plt.fill_between(Xt[:, 0], miny, maxy, color=[0.20, 0.54, 0.93], alpha=0.3)\n",
    "axes = plt.gca()\n",
    "axes.set_ylim([-1.1, 1.1])\n",
    "plt.xlabel('$t$', fontsize=30)\n",
    "plt.ylabel('$y_1$', fontsize=30)\n",
    "plt.tick_params(labelsize=20)\n",
    "plt.tight_layout()\n",
    "# plt.savefig(exp_dir + 'Figure1.png', dpi=100)"
   ]
  },
  {
   "cell_type": "code",
   "execution_count": 16,
   "id": "630ba578",
   "metadata": {},
   "outputs": [
    {
     "data": {
      "image/png": "[encoded data removed]",
      "text/plain": [
       "<Figure size 500x400 with 1 Axes>"
      ]
     },
     "metadata": {},
     "output_type": "display_data"
    },
    {
     "data": {
      "image/png": "[encoded data removed]",
      "text/plain": [
       "<Figure size 500x400 with 1 Axes>"
      ]
     },
     "metadata": {},
     "output_type": "display_data"
    }
   ],
   "source": [
    "plt.figure(figsize=(5, 4))\n",
    "# for p in range(nb_samples):\n",
    "#     plt.plot(Xt[:nb_data, 0], Y[p * nb_data:(p + 1) * nb_data, 1], color=[.7, .7, .7])\n",
    "plt.plot(Xt[:, 0], mu_gmr[:, 1], color=[0.20, 0.54, 0.93], linewidth=3)\n",
    "miny = mu_gmr[:, 1] - np.sqrt(sigma_gmr[:, 1, 1])\n",
    "maxy = mu_gmr[:, 1] + np.sqrt(sigma_gmr[:, 1, 1])\n",
    "plt.fill_between(Xt[:, 0], miny, maxy, color=[0.20, 0.54, 0.93], alpha=0.3)\n",
    "axes = plt.gca()\n",
    "axes.set_ylim([-1.1, 1.1])\n",
    "plt.xlabel('$t$', fontsize=30)\n",
    "plt.ylabel('$y_2$', fontsize=30)\n",
    "plt.tick_params(labelsize=20)\n",
    "plt.tight_layout()\n",
    "# plt.savefig(exp_dir + 'Figure2.png', dpi=100)\n",
    "# plt.show()\n",
    "\n",
    "plt.figure(figsize=(5, 4))\n",
    "# for p in range(nb_samples):\n",
    "#     plt.plot(Xt[:nb_data, 0], Y[p * nb_data:(p + 1) * nb_data, 2], color=[.7, .7, .7])\n",
    "plt.plot(Xt[:, 0], mu_gmr[:, 2], color=[0.20, 0.54, 0.93], linewidth=3)\n",
    "miny = mu_gmr[:, 2] - np.sqrt(sigma_gmr[:, 2, 2])\n",
    "maxy = mu_gmr[:, 2] + np.sqrt(sigma_gmr[:, 2, 2])\n",
    "plt.fill_between(Xt[:, 0], miny, maxy, color=[0.20, 0.54, 0.93], alpha=0.3)\n",
    "axes = plt.gca()\n",
    "axes.set_ylim([-1.1, 1.1])\n",
    "plt.xlabel('$t$', fontsize=30)\n",
    "plt.ylabel('$y_3$', fontsize=30)\n",
    "plt.tick_params(labelsize=20)\n",
    "plt.tight_layout()\n",
    "# plt.savefig(exp_dir + 'Figure3.png', dpi=100)"
   ]
  },
  {
   "cell_type": "code",
   "execution_count": null,
   "id": "9e572143",
   "metadata": {},
   "outputs": [],
   "source": []
  }
 ],
 "metadata": {
  "kernelspec": {
   "display_name": "Python 3 (ipykernel)",
   "language": "python",
   "name": "python3"
  },
  "language_info": {
   "codemirror_mode": {
    "name": "ipython",
    "version": 3
   },
   "file_extension": ".py",
   "mimetype": "text/x-python",
   "name": "python",
   "nbconvert_exporter": "python",
   "pygments_lexer": "ipython3",
   "version": "3.9.13"
  }
 },
 "nbformat": 4,
 "nbformat_minor": 5
}
