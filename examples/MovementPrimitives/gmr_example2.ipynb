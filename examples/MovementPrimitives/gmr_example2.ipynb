{
 "cells": [
  {
   "cell_type": "code",
   "execution_count": 41,
   "id": "a1d8b0cb",
   "metadata": {},
   "outputs": [],
   "source": [
    "import os\n",
    "import sys\n",
    "from pathlib import Path\n",
    "\n",
    "cwd_path = cwd_path = Path(os.getcwd()).absolute().parents[0]\n",
    "parent_path = cwd_path.parents[0]\n",
    "sys.path.insert(0, parent_path.as_posix())\n",
    "sys.path.insert(0, cwd_path.parents[0].parents[0].as_posix()) # Root\n",
    "\n",
    "import numpy as np\n",
    "from scipy.io import loadmat  # loading data from matlab\n",
    "from mayavi import mlab\n",
    "import matplotlib.pyplot as plt\n",
    "from pymanopt.manifolds import Euclidean, Sphere, Product\n",
    "\n",
    "from SkillsRefining.skills.mps.gmr.manifold_statistics import compute_frechet_mean, compute_weighted_frechet_mean\n",
    "from SkillsRefining.skills.mps.gmr.manifold_clustering import manifold_k_means, manifold_gmm_em\n",
    "from SkillsRefining.skills.mps.gmr.manifold_gmr import manifold_gmr\n",
    "from SkillsRefining.utils.plot_sphere_mayavi import plot_sphere, plot_gaussian_mesh_on_tangent_plane"
   ]
  },
  {
   "cell_type": "markdown",
   "id": "25ec8ed5",
   "metadata": {},
   "source": [
    "### Load Data"
   ]
  },
  {
   "cell_type": "code",
   "execution_count": 42,
   "id": "cb34f196",
   "metadata": {},
   "outputs": [],
   "source": [
    "letter = 'C'\n",
    "# exp_dir = './examples/MovementPrimitives/'\n",
    "datapath = '2Dletters/'\n",
    "data = loadmat(datapath + '%s.mat' % letter)\n",
    "demos = [d['pos'][0][0].T for d in data['demos'][0]]"
   ]
  },
  {
   "cell_type": "code",
   "execution_count": 43,
   "id": "e2026850",
   "metadata": {
    "scrolled": false
   },
   "outputs": [
    {
     "data": {
      "text/plain": [
       "<matplotlib.collections.PathCollection at 0x254f0b77430>"
      ]
     },
     "execution_count": 43,
     "metadata": {},
     "output_type": "execute_result"
    },
    {
     "data": {
      "image/png": "[encoded data removed]",
      "text/plain": [
       "<Figure size 400x200 with 1 Axes>"
      ]
     },
     "metadata": {},
     "output_type": "display_data"
    }
   ],
   "source": [
    "fig = plt.figure(figsize=(4,2))\n",
    "plt.scatter(demos[2][:, 0], demos[2][:, 1], s=3)"
   ]
  },
  {
   "cell_type": "markdown",
   "id": "c000ff32",
   "metadata": {},
   "source": [
    "### Place all points on a Sphere"
   ]
  },
  {
   "cell_type": "code",
   "execution_count": 44,
   "id": "e5e2529f",
   "metadata": {},
   "outputs": [],
   "source": [
    "demos = [d['pos'][0][0].T for d in data['demos'][0]]\n",
    "demos = np.array(demos)\n",
    "demos = 2 * demos / (np.max(demos, axis=1) - np.min(demos, axis=1))[:, None, :]\n",
    "demos = np.concatenate((demos, np.ones((demos.shape[0], demos.shape[1], 1))), axis=2)\n",
    "demos = demos / np.linalg.norm(demos, axis=2)[:, :, None]"
   ]
  },
  {
   "cell_type": "markdown",
   "id": "3c2b5e6c",
   "metadata": {},
   "source": [
    "### Input: Current position, Output: Next position"
   ]
  },
  {
   "cell_type": "code",
   "execution_count": 45,
   "id": "dcef207f",
   "metadata": {},
   "outputs": [],
   "source": [
    "demos2 = demos[:, :-1, :]\n",
    "target = demos[:, 1:, :]"
   ]
  },
  {
   "cell_type": "code",
   "execution_count": 46,
   "id": "e804c49d",
   "metadata": {},
   "outputs": [
    {
     "name": "stdout",
     "output_type": "stream",
     "text": [
      "(14, 199, 3) (14, 199, 3)\n"
     ]
    }
   ],
   "source": [
    "print(demos2.shape, target.shape)"
   ]
  },
  {
   "cell_type": "code",
   "execution_count": 47,
   "id": "0cd919a2",
   "metadata": {},
   "outputs": [],
   "source": [
    "nb_data = demos2.shape[1]\n",
    "nb_data_sup = 50\n",
    "nb_samples = 5\n",
    "\n",
    "X = demos2[0]\n",
    "for i in range(1, nb_samples):\n",
    "    X = np.vstack([X, demos2[i]])\n",
    "Y = target[0]\n",
    "for i in range(1, nb_samples):\n",
    "    Y = np.vstack([Y, target[i]])"
   ]
  },
  {
   "cell_type": "code",
   "execution_count": 48,
   "id": "f3827a08",
   "metadata": {
    "scrolled": false
   },
   "outputs": [
    {
     "name": "stdout",
     "output_type": "stream",
     "text": [
      "(995, 3) (995, 3)\n"
     ]
    }
   ],
   "source": [
    "print(X.shape, Y.shape)"
   ]
  },
  {
   "cell_type": "markdown",
   "id": "041a6e40",
   "metadata": {},
   "source": [
    "### Visualize Input"
   ]
  },
  {
   "cell_type": "code",
   "execution_count": 49,
   "id": "a9d2cd74",
   "metadata": {},
   "outputs": [],
   "source": [
    "mlab.figure(1, bgcolor=(1, 1, 1), fgcolor=(0, 0, 0), size=(700, 700))\n",
    "fig = mlab.gcf()\n",
    "mlab.clf()\n",
    "plot_sphere(figure=fig)\n",
    "# Plot data on the sphere\n",
    "for p in range(nb_samples):\n",
    "        mlab.points3d(X[p * nb_data:(p + 1) * nb_data, 0],\n",
    "                      X[p * nb_data:(p + 1) * nb_data, 1],\n",
    "                      X[p * nb_data:(p + 1) * nb_data, 2],\n",
    "                      color=(0.5, 0., 0.5),\n",
    "                      scale_factor=0.02)\n",
    "mlab.view(30, 30)\n",
    "mlab.show()"
   ]
  },
  {
   "cell_type": "markdown",
   "id": "838daa0d",
   "metadata": {},
   "source": [
    "### Visualize Output (well they share the same data points)"
   ]
  },
  {
   "cell_type": "code",
   "execution_count": 10,
   "id": "16ec74b8",
   "metadata": {},
   "outputs": [],
   "source": [
    "mlab.figure(1, bgcolor=(1, 1, 1), fgcolor=(0, 0, 0), size=(700, 700))\n",
    "fig = mlab.gcf()\n",
    "mlab.clf()\n",
    "plot_sphere(figure=fig)\n",
    "# Plot data on the sphere\n",
    "for p in range(nb_samples):\n",
    "        mlab.points3d(Y[p * nb_data:(p + 1) * nb_data, 0],\n",
    "                      Y[p * nb_data:(p + 1) * nb_data, 1],\n",
    "                      Y[p * nb_data:(p + 1) * nb_data, 2],\n",
    "                      color=(0.2, 0.5, 0.),\n",
    "                      scale_factor=0.02)\n",
    "mlab.view(30, 30)\n",
    "mlab.show()"
   ]
  },
  {
   "cell_type": "code",
   "execution_count": 50,
   "id": "2fcec659",
   "metadata": {},
   "outputs": [],
   "source": [
    "# Data in format compatible with pymanopt product of manifolds\n",
    "data = np.empty((X.shape[0], 2), dtype=object)\n",
    "for n in range(nb_data*nb_samples):\n",
    "    data[n] = [X[n], Y[n]]\n",
    "\n",
    "data = np.array(data, dtype=object)"
   ]
  },
  {
   "cell_type": "code",
   "execution_count": 52,
   "id": "d9c5854e",
   "metadata": {},
   "outputs": [],
   "source": [
    "input_dim = 3\n",
    "output_dim = 3\n",
    "\n",
    "# Create the manifold\n",
    "input_manifold = Sphere(input_dim)\n",
    "output_manifold = Sphere(output_dim)\n",
    "manifold = Product([input_manifold, output_manifold])"
   ]
  },
  {
   "cell_type": "markdown",
   "id": "07745d70",
   "metadata": {},
   "source": [
    "### Train ManifoldGMM"
   ]
  },
  {
   "cell_type": "code",
   "execution_count": 53,
   "id": "eb8b91a1",
   "metadata": {
    "scrolled": false
   },
   "outputs": [
    {
     "name": "stdout",
     "output_type": "stream",
     "text": [
      "Converged after 10 iterations: 3.073e+01\n"
     ]
    }
   ],
   "source": [
    "nb_clusters = 3\n",
    "\n",
    "# K-means\n",
    "km_means, km_assignments = manifold_k_means(manifold, data, nb_clusters=nb_clusters)\n",
    "\n",
    "# GMM\n",
    "initial_covariances = np.concatenate(nb_clusters * [np.eye(input_dim+output_dim)[None]], 0)\n",
    "initial_priors = np.zeros(nb_clusters)\n",
    "for k in range(nb_clusters):\n",
    "    initial_priors[k] = np.sum(km_assignments == k) / nb_data\n",
    "gmm_means, gmm_covariances, gmm_priors, gmm_assignments = manifold_gmm_em(manifold, data, nb_clusters,\n",
    "                                                                          initial_means=km_means,\n",
    "                                                                          initial_covariances=initial_covariances,\n",
    "                                                                          initial_priors=initial_priors\n",
    "                                                                          )\n",
    "np.savez('gmm_sphere2.npz', gmm_means=gmm_means, gmm_covariances=gmm_covariances, gmm_priors=gmm_priors)"
   ]
  },
  {
   "cell_type": "markdown",
   "id": "efb581a6",
   "metadata": {},
   "source": [
    "### Evaluate GMM"
   ]
  },
  {
   "cell_type": "markdown",
   "id": "544a6d11",
   "metadata": {},
   "source": [
    "### Start with a first point of a trajectory from the dataset and sample and keep track of the output from the learned GMM"
   ]
  },
  {
   "cell_type": "code",
   "execution_count": 54,
   "id": "07f25b28",
   "metadata": {},
   "outputs": [],
   "source": [
    "rand_idx = 0\n",
    "x0 = np.copy(X[rand_idx, :])\n",
    "new_x = x0\n",
    "sampled_path = [new_x]\n",
    "dt = 1\n",
    "for i in range(199):\n",
    "    x_dot, sigma_gmr, H = manifold_gmr(new_x.reshape(1, -1), manifold, gmm_means, gmm_covariances, gmm_priors)\n",
    "    new_x = x_dot[0]\n",
    "    sampled_path.append(new_x)\n",
    "sampled_path = np.array(sampled_path)"
   ]
  },
  {
   "cell_type": "markdown",
   "id": "3e58c883",
   "metadata": {},
   "source": [
    "### Visualize learned GMM means (input and outuput states), sampled points (Green)"
   ]
  },
  {
   "cell_type": "code",
   "execution_count": 55,
   "id": "5aa46905",
   "metadata": {},
   "outputs": [],
   "source": [
    "mlab.figure(1, bgcolor=(1, 1, 1), fgcolor=(0, 0, 0), size=(700, 700))\n",
    "fig = mlab.gcf()\n",
    "mlab.clf()\n",
    "plot_sphere(figure=fig)\n",
    "# Plot target data on the sphere\n",
    "for p in range(nb_samples):\n",
    "        mlab.points3d(Y[p * nb_data:(p + 1) * nb_data, 0],\n",
    "                      Y[p * nb_data:(p + 1) * nb_data, 1],\n",
    "                      Y[p * nb_data:(p + 1) * nb_data, 2],\n",
    "                      color=(0.5, 0., 0.5),\n",
    "                      scale_factor=0.02)\n",
    "\n",
    "# Plot sampled points\n",
    "for p in range(len(sampled_path)):\n",
    "    mlab.points3d(sampled_path[p, 0], sampled_path[p, 1], sampled_path[p, 2],\n",
    "                  color=(0., 0.6, 0.),\n",
    "                  scale_factor=0.03)\n",
    "\n",
    "# Plot Input (Red) and Output (Green) Gaussians\n",
    "for k in range(nb_clusters):\n",
    "    plot_gaussian_mesh_on_tangent_plane(gmm_means[k, 0], gmm_covariances[k, :3, :3], color=(1, 0, 0))\n",
    "    \n",
    "for k in range(nb_clusters):\n",
    "    plot_gaussian_mesh_on_tangent_plane(gmm_means[k, 1], gmm_covariances[k, 3:, 3:], color=(0, 1, 0))\n",
    "\n",
    "\n",
    "mlab.view(30, 120)\n",
    "# mlab.savefig('Figure0.png')\n",
    "mlab.show()"
   ]
  },
  {
   "cell_type": "code",
   "execution_count": null,
   "id": "2ceb0340",
   "metadata": {},
   "outputs": [],
   "source": []
  }
 ],
 "metadata": {
  "kernelspec": {
   "display_name": "Python 3 (ipykernel)",
   "language": "python",
   "name": "python3"
  },
  "language_info": {
   "codemirror_mode": {
    "name": "ipython",
    "version": 3
   },
   "file_extension": ".py",
   "mimetype": "text/x-python",
   "name": "python",
   "nbconvert_exporter": "python",
   "pygments_lexer": "ipython3",
   "version": "3.9.13"
  }
 },
 "nbformat": 4,
 "nbformat_minor": 5
}
