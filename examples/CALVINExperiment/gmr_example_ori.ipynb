{
 "cells": [
  {
   "cell_type": "code",
   "execution_count": 1,
   "id": "a1d8b0cb",
   "metadata": {},
   "outputs": [
    {
     "ename": "KeyboardInterrupt",
     "evalue": "",
     "output_type": "error",
     "traceback": [
      "\u001b[1;31m---------------------------------------------------------------------------\u001b[0m",
      "\u001b[1;31mKeyboardInterrupt\u001b[0m                         Traceback (most recent call last)",
      "Cell \u001b[1;32mIn [1], line 12\u001b[0m\n\u001b[0;32m     10\u001b[0m \u001b[38;5;28;01mimport\u001b[39;00m \u001b[38;5;21;01mnumpy\u001b[39;00m \u001b[38;5;28;01mas\u001b[39;00m \u001b[38;5;21;01mnp\u001b[39;00m\n\u001b[0;32m     11\u001b[0m \u001b[38;5;28;01mfrom\u001b[39;00m \u001b[38;5;21;01mscipy\u001b[39;00m\u001b[38;5;21;01m.\u001b[39;00m\u001b[38;5;21;01mio\u001b[39;00m \u001b[38;5;28;01mimport\u001b[39;00m loadmat  \u001b[38;5;66;03m# loading data from matlab\u001b[39;00m\n\u001b[1;32m---> 12\u001b[0m \u001b[38;5;28;01mfrom\u001b[39;00m \u001b[38;5;21;01mmayavi\u001b[39;00m \u001b[38;5;28;01mimport\u001b[39;00m mlab\n\u001b[0;32m     13\u001b[0m \u001b[38;5;28;01mimport\u001b[39;00m \u001b[38;5;21;01mmatplotlib\u001b[39;00m\u001b[38;5;21;01m.\u001b[39;00m\u001b[38;5;21;01mpyplot\u001b[39;00m \u001b[38;5;28;01mas\u001b[39;00m \u001b[38;5;21;01mplt\u001b[39;00m\n\u001b[0;32m     14\u001b[0m \u001b[38;5;28;01mfrom\u001b[39;00m \u001b[38;5;21;01mpymanopt\u001b[39;00m\u001b[38;5;21;01m.\u001b[39;00m\u001b[38;5;21;01mmanifolds\u001b[39;00m \u001b[38;5;28;01mimport\u001b[39;00m Euclidean, Sphere, Product\n",
      "File \u001b[1;32mD:\\apps\\Anaconda3\\envs\\refine\\lib\\site-packages\\mayavi\\mlab.py:16\u001b[0m\n\u001b[0;32m      8\u001b[0m \u001b[38;5;66;03m# Author: Prabhu Ramachandran <prabhu_r@users.sf.net>\u001b[39;00m\n\u001b[0;32m      9\u001b[0m \u001b[38;5;66;03m#         Gael Varoquaux <gael dot varoquaux at normalesup dot org>\u001b[39;00m\n\u001b[0;32m     10\u001b[0m \u001b[38;5;66;03m# Copyright (c) 2007-2020, Enthought, Inc.\u001b[39;00m\n\u001b[1;32m   (...)\u001b[0m\n\u001b[0;32m     13\u001b[0m \n\u001b[0;32m     14\u001b[0m \u001b[38;5;66;03m# Mayavi imports\u001b[39;00m\n\u001b[0;32m     15\u001b[0m \u001b[38;5;28;01mfrom\u001b[39;00m \u001b[38;5;21;01mmayavi\u001b[39;00m\u001b[38;5;21;01m.\u001b[39;00m\u001b[38;5;21;01mcore\u001b[39;00m\u001b[38;5;21;01m.\u001b[39;00m\u001b[38;5;21;01mcommon\u001b[39;00m \u001b[38;5;28;01mimport\u001b[39;00m process_ui_events\n\u001b[1;32m---> 16\u001b[0m \u001b[38;5;28;01mfrom\u001b[39;00m \u001b[38;5;21;01mmayavi\u001b[39;00m\u001b[38;5;21;01m.\u001b[39;00m\u001b[38;5;21;01mtools\u001b[39;00m\u001b[38;5;21;01m.\u001b[39;00m\u001b[38;5;21;01mcamera\u001b[39;00m \u001b[38;5;28;01mimport\u001b[39;00m view, roll, yaw, pitch, move\n\u001b[0;32m     17\u001b[0m \u001b[38;5;28;01mfrom\u001b[39;00m \u001b[38;5;21;01mmayavi\u001b[39;00m\u001b[38;5;21;01m.\u001b[39;00m\u001b[38;5;21;01mtools\u001b[39;00m\u001b[38;5;21;01m.\u001b[39;00m\u001b[38;5;21;01mfigure\u001b[39;00m \u001b[38;5;28;01mimport\u001b[39;00m figure, clf, gcf, savefig, \\\n\u001b[0;32m     18\u001b[0m     draw, sync_camera, close, screenshot\n\u001b[0;32m     19\u001b[0m \u001b[38;5;28;01mfrom\u001b[39;00m \u001b[38;5;21;01mmayavi\u001b[39;00m\u001b[38;5;21;01m.\u001b[39;00m\u001b[38;5;21;01mtools\u001b[39;00m\u001b[38;5;21;01m.\u001b[39;00m\u001b[38;5;21;01mengine_manager\u001b[39;00m \u001b[38;5;28;01mimport\u001b[39;00m get_engine, show_pipeline, \\\n\u001b[0;32m     20\u001b[0m         options, set_engine\n",
      "File \u001b[1;32mD:\\apps\\Anaconda3\\envs\\refine\\lib\\site-packages\\mayavi\\tools\\camera.py:24\u001b[0m\n\u001b[0;32m     20\u001b[0m \u001b[38;5;28;01mfrom\u001b[39;00m \u001b[38;5;21;01mnumpy\u001b[39;00m \u001b[38;5;28;01mimport\u001b[39;00m pi\n\u001b[0;32m     22\u001b[0m \u001b[38;5;66;03m# We can't use gcf, as it creates a circular import in camera management\u001b[39;00m\n\u001b[0;32m     23\u001b[0m \u001b[38;5;66;03m# routines.\u001b[39;00m\n\u001b[1;32m---> 24\u001b[0m \u001b[38;5;28;01mfrom\u001b[39;00m \u001b[38;5;21;01m.\u001b[39;00m\u001b[38;5;21;01mengine_manager\u001b[39;00m \u001b[38;5;28;01mimport\u001b[39;00m get_engine\n\u001b[0;32m     27\u001b[0m \u001b[38;5;28;01mdef\u001b[39;00m \u001b[38;5;21mworld_to_display\u001b[39m(x, y, z, figure\u001b[38;5;241m=\u001b[39m\u001b[38;5;28;01mNone\u001b[39;00m):\n\u001b[0;32m     28\u001b[0m     \u001b[38;5;124;03m\"\"\" Converts 3D world coordinates to screenshot pixel coordinates.\u001b[39;00m\n\u001b[0;32m     29\u001b[0m \n\u001b[0;32m     30\u001b[0m \u001b[38;5;124;03m        **Parameters**\u001b[39;00m\n\u001b[1;32m   (...)\u001b[0m\n\u001b[0;32m     46\u001b[0m \u001b[38;5;124;03m            Screenshot y coordinate\u001b[39;00m\n\u001b[0;32m     47\u001b[0m \u001b[38;5;124;03m    \"\"\"\u001b[39;00m\n",
      "File \u001b[1;32mD:\\apps\\Anaconda3\\envs\\refine\\lib\\site-packages\\mayavi\\tools\\engine_manager.py:15\u001b[0m\n\u001b[0;32m     13\u001b[0m \u001b[38;5;28;01mfrom\u001b[39;00m \u001b[38;5;21;01mmayavi\u001b[39;00m\u001b[38;5;21;01m.\u001b[39;00m\u001b[38;5;21;01mpreferences\u001b[39;00m\u001b[38;5;21;01m.\u001b[39;00m\u001b[38;5;21;01mapi\u001b[39;00m \u001b[38;5;28;01mimport\u001b[39;00m preference_manager\n\u001b[0;32m     14\u001b[0m \u001b[38;5;28;01mfrom\u001b[39;00m \u001b[38;5;21;01mmayavi\u001b[39;00m\u001b[38;5;21;01m.\u001b[39;00m\u001b[38;5;21;01mcore\u001b[39;00m\u001b[38;5;21;01m.\u001b[39;00m\u001b[38;5;21;01mregistry\u001b[39;00m \u001b[38;5;28;01mimport\u001b[39;00m registry\n\u001b[1;32m---> 15\u001b[0m \u001b[38;5;28;01mfrom\u001b[39;00m \u001b[38;5;21;01mmayavi\u001b[39;00m\u001b[38;5;21;01m.\u001b[39;00m\u001b[38;5;21;01mcore\u001b[39;00m\u001b[38;5;21;01m.\u001b[39;00m\u001b[38;5;21;01mengine\u001b[39;00m \u001b[38;5;28;01mimport\u001b[39;00m Engine\n\u001b[0;32m     16\u001b[0m \u001b[38;5;28;01mfrom\u001b[39;00m \u001b[38;5;21;01mmayavi\u001b[39;00m\u001b[38;5;21;01m.\u001b[39;00m\u001b[38;5;21;01mcore\u001b[39;00m\u001b[38;5;21;01m.\u001b[39;00m\u001b[38;5;21;01moff_screen_engine\u001b[39;00m \u001b[38;5;28;01mimport\u001b[39;00m OffScreenEngine\n\u001b[0;32m     17\u001b[0m \u001b[38;5;28;01mfrom\u001b[39;00m \u001b[38;5;21;01mmayavi\u001b[39;00m\u001b[38;5;21;01m.\u001b[39;00m\u001b[38;5;21;01mcore\u001b[39;00m\u001b[38;5;21;01m.\u001b[39;00m\u001b[38;5;21;01mnull_engine\u001b[39;00m \u001b[38;5;28;01mimport\u001b[39;00m NullEngine\n",
      "File \u001b[1;32mD:\\apps\\Anaconda3\\envs\\refine\\lib\\site-packages\\mayavi\\core\\engine.py:28\u001b[0m\n\u001b[0;32m     26\u001b[0m \u001b[38;5;66;03m# Local imports.\u001b[39;00m\n\u001b[0;32m     27\u001b[0m \u001b[38;5;28;01mfrom\u001b[39;00m \u001b[38;5;21;01mmayavi\u001b[39;00m\u001b[38;5;21;01m.\u001b[39;00m\u001b[38;5;21;01mcore\u001b[39;00m\u001b[38;5;21;01m.\u001b[39;00m\u001b[38;5;21;01mbase\u001b[39;00m \u001b[38;5;28;01mimport\u001b[39;00m Base\n\u001b[1;32m---> 28\u001b[0m \u001b[38;5;28;01mfrom\u001b[39;00m \u001b[38;5;21;01mmayavi\u001b[39;00m\u001b[38;5;21;01m.\u001b[39;00m\u001b[38;5;21;01mcore\u001b[39;00m\u001b[38;5;21;01m.\u001b[39;00m\u001b[38;5;21;01mscene\u001b[39;00m \u001b[38;5;28;01mimport\u001b[39;00m Scene\n\u001b[0;32m     29\u001b[0m \u001b[38;5;28;01mfrom\u001b[39;00m \u001b[38;5;21;01mmayavi\u001b[39;00m\u001b[38;5;21;01m.\u001b[39;00m\u001b[38;5;21;01mcore\u001b[39;00m\u001b[38;5;21;01m.\u001b[39;00m\u001b[38;5;21;01mcommon\u001b[39;00m \u001b[38;5;28;01mimport\u001b[39;00m error, process_ui_events\n\u001b[0;32m     30\u001b[0m \u001b[38;5;28;01mfrom\u001b[39;00m \u001b[38;5;21;01mmayavi\u001b[39;00m\u001b[38;5;21;01m.\u001b[39;00m\u001b[38;5;21;01mcore\u001b[39;00m\u001b[38;5;21;01m.\u001b[39;00m\u001b[38;5;21;01mregistry\u001b[39;00m \u001b[38;5;28;01mimport\u001b[39;00m registry\n",
      "File \u001b[1;32mD:\\apps\\Anaconda3\\envs\\refine\\lib\\site-packages\\mayavi\\core\\scene.py:15\u001b[0m\n\u001b[0;32m     13\u001b[0m \u001b[38;5;28;01mfrom\u001b[39;00m \u001b[38;5;21;01mtvtk\u001b[39;00m\u001b[38;5;21;01m.\u001b[39;00m\u001b[38;5;21;01mpyface\u001b[39;00m\u001b[38;5;21;01m.\u001b[39;00m\u001b[38;5;21;01mtvtk_scene\u001b[39;00m \u001b[38;5;28;01mimport\u001b[39;00m TVTKScene\n\u001b[0;32m     14\u001b[0m \u001b[38;5;28;01mfrom\u001b[39;00m \u001b[38;5;21;01mmayavi\u001b[39;00m\u001b[38;5;21;01m.\u001b[39;00m\u001b[38;5;21;01mcore\u001b[39;00m\u001b[38;5;21;01m.\u001b[39;00m\u001b[38;5;21;01mbase\u001b[39;00m \u001b[38;5;28;01mimport\u001b[39;00m Base\n\u001b[1;32m---> 15\u001b[0m \u001b[38;5;28;01mfrom\u001b[39;00m \u001b[38;5;21;01mmayavi\u001b[39;00m\u001b[38;5;21;01m.\u001b[39;00m\u001b[38;5;21;01mcore\u001b[39;00m\u001b[38;5;21;01m.\u001b[39;00m\u001b[38;5;21;01msource\u001b[39;00m \u001b[38;5;28;01mimport\u001b[39;00m Source\n\u001b[0;32m     16\u001b[0m \u001b[38;5;28;01mfrom\u001b[39;00m \u001b[38;5;21;01mmayavi\u001b[39;00m\u001b[38;5;21;01m.\u001b[39;00m\u001b[38;5;21;01mcore\u001b[39;00m\u001b[38;5;21;01m.\u001b[39;00m\u001b[38;5;21;01mcommon\u001b[39;00m \u001b[38;5;28;01mimport\u001b[39;00m handle_children_state, exception\n\u001b[0;32m     17\u001b[0m \u001b[38;5;28;01mfrom\u001b[39;00m \u001b[38;5;21;01mmayavi\u001b[39;00m\u001b[38;5;21;01m.\u001b[39;00m\u001b[38;5;21;01mcore\u001b[39;00m\u001b[38;5;21;01m.\u001b[39;00m\u001b[38;5;21;01madder_node\u001b[39;00m \u001b[38;5;28;01mimport\u001b[39;00m SourceAdderNode\n",
      "File \u001b[1;32m<frozen importlib._bootstrap>:1007\u001b[0m, in \u001b[0;36m_find_and_load\u001b[1;34m(name, import_)\u001b[0m\n",
      "File \u001b[1;32m<frozen importlib._bootstrap>:986\u001b[0m, in \u001b[0;36m_find_and_load_unlocked\u001b[1;34m(name, import_)\u001b[0m\n",
      "File \u001b[1;32m<frozen importlib._bootstrap>:680\u001b[0m, in \u001b[0;36m_load_unlocked\u001b[1;34m(spec)\u001b[0m\n",
      "File \u001b[1;32m<frozen importlib._bootstrap_external>:846\u001b[0m, in \u001b[0;36mexec_module\u001b[1;34m(self, module)\u001b[0m\n",
      "File \u001b[1;32m<frozen importlib._bootstrap_external>:941\u001b[0m, in \u001b[0;36mget_code\u001b[1;34m(self, fullname)\u001b[0m\n",
      "File \u001b[1;32m<frozen importlib._bootstrap_external>:1039\u001b[0m, in \u001b[0;36mget_data\u001b[1;34m(self, path)\u001b[0m\n",
      "\u001b[1;31mKeyboardInterrupt\u001b[0m: "
     ]
    }
   ],
   "source": [
    "import os\n",
    "import sys\n",
    "from pathlib import Path\n",
    "\n",
    "cwd_path = cwd_path = Path(os.getcwd()).absolute().parents[0]\n",
    "parent_path = cwd_path.parents[0]\n",
    "sys.path.insert(0, parent_path.as_posix())\n",
    "sys.path.insert(0, cwd_path.parents[0].parents[0].as_posix()) # Root\n",
    "\n",
    "import numpy as np\n",
    "from scipy.io import loadmat  # loading data from matlab\n",
    "from mayavi import mlab\n",
    "import matplotlib.pyplot as plt\n",
    "from pymanopt.manifolds import Euclidean, Sphere, Product\n",
    "\n",
    "from SkillsSequencing.skills.mps.gmr.manifold_statistics import compute_frechet_mean, compute_weighted_frechet_mean\n",
    "from SkillsSequencing.skills.mps.gmr.manifold_clustering import manifold_k_means, manifold_gmm_em\n",
    "from SkillsSequencing.skills.mps.gmr.manifold_gmr import manifold_gmr\n",
    "from SkillsSequencing.utils.plot_sphere_mayavi import plot_sphere, plot_gaussian_mesh_on_tangent_plane\n",
    "\n",
    "from SkillsSequencing.skills.mps.dynsys.CALVIN_DS import CALVINDynSysDataset\n",
    "from SkillsSequencing.skills.mps.dynsys.utils import plot_3d_trajectories"
   ]
  },
  {
   "cell_type": "markdown",
   "id": "25ec8ed5",
   "metadata": {},
   "source": [
    "### Load Data"
   ]
  },
  {
   "cell_type": "code",
   "execution_count": null,
   "id": "f8b97ed0",
   "metadata": {
    "scrolled": false
   },
   "outputs": [],
   "source": [
    "skill = 'rotate_blue_block_right'\n",
    "dataset = CALVINDynSysDataset(skill=skill, state_type='ori', is_quaternion=True, train=True, normalized=False, goal_centered=False, demos_dir='data/')\n",
    "# dataset.plot_random()"
   ]
  },
  {
   "cell_type": "code",
   "execution_count": null,
   "id": "dfb1fc1f",
   "metadata": {},
   "outputs": [],
   "source": [
    "np.linalg.norm(dataset.X[0][0])"
   ]
  },
  {
   "cell_type": "markdown",
   "id": "c000ff32",
   "metadata": {},
   "source": [
    "### Parameters"
   ]
  },
  {
   "cell_type": "code",
   "execution_count": null,
   "id": "e1180368",
   "metadata": {},
   "outputs": [],
   "source": [
    "nb_data = dataset.X[0].shape[0]\n",
    "nb_data_sup = 62\n",
    "nb_samples = 30\n",
    "dt = 0.06\n",
    "sampling_dt = 0.03\n",
    "input_dim = 4\n",
    "output_dim = 4\n",
    "nb_states = 3"
   ]
  },
  {
   "cell_type": "code",
   "execution_count": null,
   "id": "71602333",
   "metadata": {},
   "outputs": [],
   "source": [
    "# Create velocity data\n",
    "# demos_dx = np.array([(demos[i][2:, :] - demos[i][:-2, :])/dt for i in range(nb_samples)])\n",
    "# demos = [demos[i][1:-1, :] for i in range(nb_samples)]\n",
    "\n",
    "# Stack position and velocity data\n",
    "demos_xdx = [np.hstack([dataset.X[i], dataset.dX[i]]) for i in range(nb_samples)]\n",
    "\n",
    "# Stack demos\n",
    "demos_np = demos_xdx[0]\n",
    "for i in range(1, nb_samples):\n",
    "    demos_np = np.vstack([demos_np, demos_xdx[i]])"
   ]
  },
  {
   "cell_type": "code",
   "execution_count": null,
   "id": "03239e52",
   "metadata": {},
   "outputs": [],
   "source": [
    "X = demos_np[:, :input_dim]\n",
    "Y = demos_np[:, input_dim:]\n",
    "\n",
    "# X = 2 * (X - np.min(X, axis=0))/ (np.max(X, axis=0) - np.min(X, axis=0))\n",
    "# X_norm = np.linalg.norm(X, axis=1)[:, None]\n",
    "# X = X / np.linalg.norm(X, axis=1)[:, None]\n",
    "\n",
    "\n",
    "# Y = 2 * (Y - np.min(Y, axis=0))/ (np.max(Y, axis=0) - np.min(Y, axis=0))\n",
    "# Y_norm = np.linalg.norm(Y, axis=1)[:, None]\n",
    "# Y = Y / np.linalg.norm(Y, axis=1)[:, None]\n"
   ]
  },
  {
   "cell_type": "code",
   "execution_count": null,
   "id": "37b9e4d3",
   "metadata": {},
   "outputs": [],
   "source": [
    "# Data in format compatible with pymanopt product of manifolds\n",
    "data = np.empty((X.shape[0], 2), dtype=object)\n",
    "for n in range(X.shape[0]):\n",
    "    data[n] = [X[n], Y[n]]"
   ]
  },
  {
   "cell_type": "code",
   "execution_count": null,
   "id": "fe8ef44a",
   "metadata": {},
   "outputs": [],
   "source": [
    "data.shape"
   ]
  },
  {
   "cell_type": "code",
   "execution_count": null,
   "id": "e07ada60",
   "metadata": {
    "scrolled": true
   },
   "outputs": [],
   "source": [
    "# Xt = dt * np.arange(nb_data + nb_data_sup)[:, None]\n",
    "\n",
    "# Create the manifold\n",
    "input_manifold = Sphere(input_dim)\n",
    "output_manifold = Sphere(output_dim)\n",
    "manifold = Product([input_manifold, output_manifold])\n",
    "\n",
    "# Number of clusters\n",
    "nb_clusters = 3"
   ]
  },
  {
   "cell_type": "code",
   "execution_count": 10,
   "id": "843473e8",
   "metadata": {},
   "outputs": [
    {
     "data": {
      "text/plain": [
       "array([array([ 0.7560201 ,  0.6537286 , -0.01600595,  0.02857106], dtype=float32),\n",
       "       array([ 0.04151532, -0.05009251,  0.04883759,  0.07671842], dtype=float32)],\n",
       "      dtype=object)"
      ]
     },
     "execution_count": 10,
     "metadata": {},
     "output_type": "execute_result"
    }
   ],
   "source": [
    "data[0]"
   ]
  },
  {
   "cell_type": "code",
   "execution_count": 11,
   "id": "eb8b91a1",
   "metadata": {
    "scrolled": false
   },
   "outputs": [
    {
     "name": "stdout",
     "output_type": "stream",
     "text": [
      "Converged after 6 iterations: 1.176e+01\n"
     ]
    }
   ],
   "source": [
    "# K-means\n",
    "km_means, km_assignments = manifold_k_means(manifold, data, nb_clusters=nb_clusters)\n",
    "\n",
    "# GMM\n",
    "initial_covariances = np.concatenate(nb_clusters * [np.eye(input_dim+output_dim)[None]], 0)\n",
    "initial_priors = np.zeros(nb_clusters)\n",
    "for k in range(nb_clusters):\n",
    "    initial_priors[k] = np.sum(km_assignments == k) / len(km_assignments)\n",
    "gmm_means, gmm_covariances, gmm_priors, gmm_assignments = manifold_gmm_em(manifold, data, nb_clusters,\n",
    "                                                                          initial_means=km_means,\n",
    "                                                                          initial_covariances=initial_covariances,\n",
    "                                                                          initial_priors=initial_priors)\n",
    "outdir = f'skill_ds/{dataset.state_type}/{dataset.skill}/gmm/'\n",
    "os.makedirs(outdir, exist_ok=True)\n",
    "filename = outdir + f'gmm_params{nb_clusters}.npz'\n",
    "np.savez(filename, gmm_means=gmm_means, gmm_covariances=gmm_covariances, gmm_priors=gmm_priors)"
   ]
  },
  {
   "cell_type": "code",
   "execution_count": 12,
   "id": "ed400e5c",
   "metadata": {},
   "outputs": [],
   "source": [
    "sampling_dt = 0.03\n",
    "val_dataset = CALVINDynSysDataset(skill=skill, state_type='ori', is_quaternion=True, goal_centered=False, normalized=False, train=False, demos_dir='data/')\n",
    "X_val = val_dataset.X[0]\n",
    "for i in range(1, val_dataset.X.shape[0]):\n",
    "    X_val = np.vstack([X_val, val_dataset.X[i]])"
   ]
  },
  {
   "cell_type": "code",
   "execution_count": 40,
   "id": "c09b7c42",
   "metadata": {},
   "outputs": [
    {
     "data": {
      "text/plain": [
       "array([ 0.7090184 ,  0.7046077 ,  0.02674841, -0.01026431], dtype=float32)"
      ]
     },
     "execution_count": 40,
     "metadata": {},
     "output_type": "execute_result"
    }
   ],
   "source": [
    "X_val[0]"
   ]
  },
  {
   "cell_type": "code",
   "execution_count": 52,
   "id": "ecf47271",
   "metadata": {
    "scrolled": true
   },
   "outputs": [
    {
     "name": "stdout",
     "output_type": "stream",
     "text": [
      "744 100\n"
     ]
    }
   ],
   "source": [
    "rand_idx = np.random.choice(np.arange(0, len(X_val), nb_data))\n",
    "# rand_idx = 62\n",
    "sampled_path = []\n",
    "x0 = np.copy(X_val[rand_idx, :])\n",
    "goal = np.copy(X_val[rand_idx+nb_data-1, :])\n",
    "new_x = x0\n",
    "\n",
    "for i in range(100):\n",
    "    x_dot, sigma_gmr, H = manifold_gmr(new_x.reshape(1, -1), manifold, gmm_means, gmm_covariances, gmm_priors)\n",
    "    new_x = new_x + sampling_dt * x_dot\n",
    "    new_x = new_x / np.linalg.norm(new_x)\n",
    "    sampled_path.append(new_x)\n",
    "    if np.linalg.norm(new_x - goal) <= 0.03:\n",
    "        break\n",
    "sampled_path = np.array(sampled_path).squeeze(1)\n",
    "true_path = X_val[rand_idx:rand_idx+nb_data]\n",
    "print(rand_idx, len(sampled_path))"
   ]
  },
  {
   "cell_type": "code",
   "execution_count": 43,
   "id": "56439267",
   "metadata": {},
   "outputs": [
    {
     "data": {
      "text/plain": [
       "dtype('float64')"
      ]
     },
     "execution_count": 43,
     "metadata": {},
     "output_type": "execute_result"
    }
   ],
   "source": [
    "new_x.dtype"
   ]
  },
  {
   "cell_type": "markdown",
   "id": "e3d17f5f",
   "metadata": {},
   "source": [
    "## Visualizing Quaternion Trajectories. "
   ]
  },
  {
   "cell_type": "code",
   "execution_count": 44,
   "id": "63f77c4a",
   "metadata": {},
   "outputs": [],
   "source": [
    "import matplotlib.pyplot as plt\n",
    "from mpl_toolkits.mplot3d.proj3d import proj_transform\n",
    "from mpl_toolkits.mplot3d.axes3d import Axes3D\n",
    "import matplotlib.animation as animation\n",
    "import numpy as np\n",
    "from PIL import Image\n",
    "import pybullet as p\n",
    "import io"
   ]
  },
  {
   "cell_type": "code",
   "execution_count": 45,
   "id": "160f9c2a",
   "metadata": {},
   "outputs": [],
   "source": [
    "def q_conjugate(q):\n",
    "    w, x, y, z = q\n",
    "    return (w, -x, -y, -z)\n",
    "\n",
    "def qv_mult(q1, v1):\n",
    "    q2 = (0.0,) + v1\n",
    "    return q_mult(q_mult(q1, q2), q_conjugate(q1))[1:]\n",
    "\n",
    "def q_mult(q1, q2):\n",
    "    w1, x1, y1, z1 = q1\n",
    "    w2, x2, y2, z2 = q2\n",
    "    w = w1 * w2 - x1 * x2 - y1 * y2 - z1 * z2\n",
    "    x = w1 * x2 + x1 * w2 + y1 * z2 - z1 * y2\n",
    "    y = w1 * y2 + y1 * w2 + z1 * x2 - x1 * z2\n",
    "    z = w1 * z2 + z1 * w2 + x1 * y2 - y1 * x2\n",
    "    return w, x, y, z\n",
    "\n",
    "def add_vectors(v1, v2):\n",
    "    return [v_1 + v_2 for v_1, v_2 in zip(v1, v2)]\n",
    "\n",
    "def subtract_vectors(v1, v2):\n",
    "    return [v_1 - v_2 for v_1, v_2 in zip(v1, v2)]"
   ]
  },
  {
   "cell_type": "code",
   "execution_count": 46,
   "id": "046d97fb",
   "metadata": {},
   "outputs": [],
   "source": [
    "def plt2arr(fig, draw=True):\n",
    "    \"\"\"\n",
    "    need to draw if figure is not drawn yet\n",
    "    \"\"\"\n",
    "    if draw:\n",
    "        fig.canvas.draw()\n",
    "    rgba_buf = fig.canvas.buffer_rgba()\n",
    "    (w,h) = fig.canvas.get_width_height()\n",
    "    rgba_arr = np.frombuffer(rgba_buf, dtype=np.uint8).reshape((h,w,4))\n",
    "    return rgba_arr"
   ]
  },
  {
   "cell_type": "code",
   "execution_count": 47,
   "id": "e88346ed",
   "metadata": {},
   "outputs": [],
   "source": [
    "buffer = 0.1\n",
    "minx = -buffer\n",
    "maxx = +buffer\n",
    "\n",
    "miny = - buffer\n",
    "maxy = + buffer\n",
    "\n",
    "minz = - buffer\n",
    "maxz = + buffer"
   ]
  },
  {
   "cell_type": "code",
   "execution_count": 48,
   "id": "79a16e98",
   "metadata": {},
   "outputs": [
    {
     "data": {
      "image/png": "[encoded data removed]",
      "text/plain": [
       "<Figure size 640x480 with 1 Axes>"
      ]
     },
     "metadata": {},
     "output_type": "display_data"
    }
   ],
   "source": [
    "fig = plt.figure()\n",
    "ax = fig.add_subplot(111, projection='3d')\n",
    "\n",
    "\n",
    "X = [1/10, 0, 0]\n",
    "Y = [0, 1/10, 0]\n",
    "Z = [0, 0, 1/10]\n",
    "origin = [0.0, 0.0, 0.0]\n",
    "# origin = dataset.X[0][0][:3]\n",
    "OX, OY, OZ = zip(origin) \n",
    "\n",
    "ax.quiver(OX, OY, OZ, X[0],X[1], X[2], color='red')\n",
    "ax.quiver(OX, OY, OZ, Y[0], Y[1], Y[2], color='green')\n",
    "ax.quiver(OX, OY, OZ, Z[0],Z[1],Z[2], color='blue')\n",
    "# ax.scatter(OX, OY, OZ, color='gray')\n",
    "ax.view_init(elev=15, azim=45)\n",
    "ax.set(xlim=(minx, maxx), ylim=(miny, maxy), zlim=(minz, maxz))\n",
    "ax.set_title(\"0\")\n",
    "# ax.set_xticks([])\n",
    "# ax.set_yticks([])\n",
    "# ax.set_zticks([])\n",
    "plt.show()\n",
    "plt.close(fig)"
   ]
  },
  {
   "cell_type": "code",
   "execution_count": 14,
   "id": "ee3b879f",
   "metadata": {},
   "outputs": [
    {
     "ename": "NameError",
     "evalue": "name 'true_path' is not defined",
     "output_type": "error",
     "traceback": [
      "\u001b[1;31m---------------------------------------------------------------------------\u001b[0m",
      "\u001b[1;31mNameError\u001b[0m                                 Traceback (most recent call last)",
      "Cell \u001b[1;32mIn [14], line 5\u001b[0m\n\u001b[0;32m      3\u001b[0m Y \u001b[38;5;241m=\u001b[39m [\u001b[38;5;241m0\u001b[39m, \u001b[38;5;241m1\u001b[39m\u001b[38;5;241m/\u001b[39m\u001b[38;5;241m10\u001b[39m, \u001b[38;5;241m0\u001b[39m]\n\u001b[0;32m      4\u001b[0m Z \u001b[38;5;241m=\u001b[39m [\u001b[38;5;241m0\u001b[39m, \u001b[38;5;241m0\u001b[39m, \u001b[38;5;241m1\u001b[39m\u001b[38;5;241m/\u001b[39m\u001b[38;5;241m10\u001b[39m]\n\u001b[1;32m----> 5\u001b[0m \u001b[38;5;28;01mfor\u001b[39;00m idx, q \u001b[38;5;129;01min\u001b[39;00m \u001b[38;5;28menumerate\u001b[39m(\u001b[43mtrue_path\u001b[49m):\n\u001b[0;32m      6\u001b[0m     q \u001b[38;5;241m=\u001b[39m np\u001b[38;5;241m.\u001b[39marray([q[\u001b[38;5;241m-\u001b[39m\u001b[38;5;241m1\u001b[39m], q[\u001b[38;5;241m0\u001b[39m], q[\u001b[38;5;241m1\u001b[39m], q[\u001b[38;5;241m2\u001b[39m]])\n\u001b[0;32m      7\u001b[0m     X \u001b[38;5;241m=\u001b[39m qv_mult(q, \u001b[38;5;28mtuple\u001b[39m(X))\n",
      "\u001b[1;31mNameError\u001b[0m: name 'true_path' is not defined"
     ]
    }
   ],
   "source": [
    "\n",
    "frames = []\n",
    "X = [1/10, 0, 0]\n",
    "Y = [0, 1/10, 0]\n",
    "Z = [0, 0, 1/10]\n",
    "for idx, q in enumerate(true_path):\n",
    "    q = np.array([q[-1], q[0], q[1], q[2]])\n",
    "    X = qv_mult(q, tuple(X))\n",
    "    Y = qv_mult(q, tuple(Y))\n",
    "    Z = qv_mult(q, tuple(Z))\n",
    "    \n",
    "    fig = plt.figure()\n",
    "    ax = fig.add_subplot(111, projection='3d')\n",
    "    ax.quiver(OX, OY, OZ, X[0], X[1], X[2], color='red')\n",
    "    ax.quiver(OX, OY, OZ, Y[0], Y[1], Y[2], color='green')\n",
    "    ax.quiver(OX, OY, OZ, Z[0], Z[1], Z[2], color='blue')\n",
    "    \n",
    "    ax.view_init(elev=15, azim=40)\n",
    "    ax.set(xlim=(minx, maxx), ylim=(miny, maxy), zlim=(minz, maxz))\n",
    "    ax.set_title(skill + ' - GT - ' + str(idx+1))\n",
    "#     ax.set_xticks([])\n",
    "#     ax.set_yticks([])\n",
    "#     ax.set_zticks([])\n",
    "\n",
    "    frames.append(plt2arr(fig, True))\n",
    "    plt.close(fig)\n",
    "#     X = [1/10, 0, 0]\n",
    "#     Y = [0, 1/10, 0]\n",
    "#     Z = [0, 0, 1/10]\n",
    "\n",
    "X = [1/10, 0, 0]\n",
    "Y = [0, 1/10, 0]\n",
    "Z = [0, 0, 1/10]\n",
    "for idx, q in enumerate(sampled_path):\n",
    "    q = np.array([q[-1], q[0], q[1], q[2]])\n",
    "    X = qv_mult(q, tuple(X))\n",
    "    Y = qv_mult(q, tuple(Y))\n",
    "    Z = qv_mult(q, tuple(Z))\n",
    "    \n",
    "    fig = plt.figure()\n",
    "    ax = fig.add_subplot(111, projection='3d')\n",
    "    ax.quiver(OX, OY, OZ, X[0], X[1], X[2], color='red')\n",
    "    ax.quiver(OX, OY, OZ, Y[0], Y[1], Y[2], color='green')\n",
    "    ax.quiver(OX, OY, OZ, Z[0], Z[1], Z[2], color='blue')\n",
    "    \n",
    "    ax.view_init(elev=15, azim=45)\n",
    "    ax.set(xlim=(minx, maxx), ylim=(miny, maxy), zlim=(minz, maxz))\n",
    "    ax.set_title(skill + ' Sampled - ' + str(idx+1))\n",
    "#     ax.set_xticks([])\n",
    "#     ax.set_yticks([])\n",
    "#     ax.set_zticks([])\n",
    "\n",
    "    frames.append(plt2arr(fig, True))\n",
    "    plt.close(fig)\n",
    "#     X = [1/10, 0, 0]\n",
    "#     Y = [0, 1/10, 0]\n",
    "#     Z = [0, 0, 1/10]\n",
    "\n",
    "gif = [Image.fromarray(img) for img in frames]\n",
    "gif[0].save(\"quat_demo_rotation.gif\", save_all=True, append_images=gif[1:], duration=150, loop=0)\n",
    "print(rand_idx)"
   ]
  },
  {
   "cell_type": "markdown",
   "id": "9a76d358",
   "metadata": {},
   "source": [
    "### Misc"
   ]
  },
  {
   "cell_type": "code",
   "execution_count": 112,
   "id": "59a62287",
   "metadata": {},
   "outputs": [],
   "source": [
    "\n",
    "\n",
    "\n",
    "# plt.show()\n",
    "# ax.axis([-1.5,1.5,-1.5,1.5])\n",
    "\n",
    "\n",
    "\n",
    "if False:\n",
    "    def init():\n",
    "        ax.view_init(elev=28, azim=0)\n",
    "        return fig,\n",
    "    \n",
    "    def animate(i):\n",
    "        ax.view_init(elev=28, azim=i)\n",
    "        return fig,\n",
    "\n",
    "    anim = animation.FuncAnimation(fig, animate, init_func=init, frames=60, interval=30, blit=True)\n",
    "    # Save\n",
    "    anim.save('quat.gif', fps=15)"
   ]
  }
 ],
 "metadata": {
  "kernelspec": {
   "display_name": "Python 3 (ipykernel)",
   "language": "python",
   "name": "python3"
  },
  "language_info": {
   "codemirror_mode": {
    "name": "ipython",
    "version": 3
   },
   "file_extension": ".py",
   "mimetype": "text/x-python",
   "name": "python",
   "nbconvert_exporter": "python",
   "pygments_lexer": "ipython3",
   "version": "3.9.13"
  }
 },
 "nbformat": 4,
 "nbformat_minor": 5
}
